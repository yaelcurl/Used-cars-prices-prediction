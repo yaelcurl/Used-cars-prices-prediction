{
 "cells": [
  {
   "cell_type": "markdown",
   "metadata": {},
   "source": [
    "Prediction of used cars' value from historical data: technical specifications, trim versions, and prices. Recording metrics of:\n",
    "- the quality of the prediction;\n",
    "- the speed of the prediction;\n",
    "- the time required for training"
   ]
  },
  {
   "cell_type": "markdown",
   "metadata": {},
   "source": [
    "# Table of contents\n",
    "\n",
    "[Imports](#imports)\n",
    "\n",
    "\n",
    "[1. Data preparation](#1.-Data-preparation)\n",
    "\n",
    "[Removing incorrect values](#Removing-incorrect-values)\n",
    "   \n",
    "[Converting dates to date parts](#Converting-dates-to-date-parts)\n",
    "\n",
    "[Splitting to sets](#Splitting-to-sets)\n",
    "\n",
    "[Imputing missing values](#Imputing-missing-values)\n",
    "\n",
    "[Encoding labels](#Encoding-labels)\n",
    "\n",
    "[Scaling](#Scaling)\n",
    "\n",
    "\n",
    "[2. Model training](#2.-Model-training)\n",
    "\n",
    "[Linear regression for sanity check](#Linear-regression-for-sanity-check)\n",
    "\n",
    "[Random forest](#Random-forest)\n",
    "\n",
    "[CatBoost](#CatBoost)\n",
    "\n",
    "[LightGBM](#LightGBM)\n",
    "\n",
    "\n",
    "[3. Model analysis](#3.-Model-analysis)"
   ]
  },
  {
   "cell_type": "markdown",
   "metadata": {},
   "source": [
    "# Imports\n",
    "<a id='imports'></a>"
   ]
  },
  {
   "cell_type": "code",
   "execution_count": 7,
   "metadata": {},
   "outputs": [],
   "source": [
    "#Imports\n",
    "import os\n",
    "import pandas as pd\n",
    "import numpy as np\n",
    "import matplotlib.pyplot as plt\n",
    "from collections import defaultdict\n",
    "from sklearn.model_selection import train_test_split, GridSearchCV\n",
    "from sklearn.preprocessing import StandardScaler\n",
    "from sklearn.linear_model import LinearRegression\n",
    "from sklearn.model_selection import cross_validate\n",
    "from sklearn.ensemble import RandomForestRegressor\n",
    "import catboost\n",
    "from catboost import CatBoostRegressor\n",
    "from lightgbm import LGBMRegressor\n",
    "from lightgbm import Dataset\n",
    "from sklearn.metrics import mean_squared_error"
   ]
  },
  {
   "cell_type": "markdown",
   "metadata": {},
   "source": [
    "# 1. Data preparation\n",
    "<a id='Data preparation'></a>"
   ]
  },
  {
   "cell_type": "code",
   "execution_count": 13,
   "metadata": {},
   "outputs": [],
   "source": [
    "os.chdir(r'C:\\Users\\Yael\\Documents\\yandex')\n",
    "data = pd.read_csv('car_data.csv')"
   ]
  },
  {
   "cell_type": "code",
   "execution_count": 14,
   "metadata": {},
   "outputs": [],
   "source": [
    "data_edit = data.copy()"
   ]
  },
  {
   "cell_type": "code",
   "execution_count": 15,
   "metadata": {
    "scrolled": true
   },
   "outputs": [
    {
     "name": "stdout",
     "output_type": "stream",
     "text": [
      "<class 'pandas.core.frame.DataFrame'>\n",
      "RangeIndex: 354369 entries, 0 to 354368\n",
      "Data columns (total 16 columns):\n",
      "DateCrawled          354369 non-null object\n",
      "Price                354369 non-null int64\n",
      "VehicleType          316879 non-null object\n",
      "RegistrationYear     354369 non-null int64\n",
      "Gearbox              334536 non-null object\n",
      "Power                354369 non-null int64\n",
      "Model                334664 non-null object\n",
      "Mileage              354369 non-null int64\n",
      "RegistrationMonth    354369 non-null int64\n",
      "FuelType             321474 non-null object\n",
      "Brand                354369 non-null object\n",
      "NotRepaired          283215 non-null object\n",
      "DateCreated          354369 non-null object\n",
      "NumberOfPictures     354369 non-null int64\n",
      "PostalCode           354369 non-null int64\n",
      "LastSeen             354369 non-null object\n",
      "dtypes: int64(7), object(9)\n",
      "memory usage: 43.3+ MB\n"
     ]
    }
   ],
   "source": [
    "data.info()"
   ]
  },
  {
   "cell_type": "markdown",
   "metadata": {},
   "source": [
    "Some features have missing data, some are not numerical and should be dropped or encoded"
   ]
  },
  {
   "cell_type": "code",
   "execution_count": 16,
   "metadata": {},
   "outputs": [
    {
     "data": {
      "text/html": [
       "<div>\n",
       "<style scoped>\n",
       "    .dataframe tbody tr th:only-of-type {\n",
       "        vertical-align: middle;\n",
       "    }\n",
       "\n",
       "    .dataframe tbody tr th {\n",
       "        vertical-align: top;\n",
       "    }\n",
       "\n",
       "    .dataframe thead th {\n",
       "        text-align: right;\n",
       "    }\n",
       "</style>\n",
       "<table border=\"1\" class=\"dataframe\">\n",
       "  <thead>\n",
       "    <tr style=\"text-align: right;\">\n",
       "      <th></th>\n",
       "      <th>DateCrawled</th>\n",
       "      <th>VehicleType</th>\n",
       "      <th>Gearbox</th>\n",
       "      <th>Model</th>\n",
       "      <th>FuelType</th>\n",
       "      <th>Brand</th>\n",
       "      <th>NotRepaired</th>\n",
       "      <th>DateCreated</th>\n",
       "      <th>LastSeen</th>\n",
       "    </tr>\n",
       "  </thead>\n",
       "  <tbody>\n",
       "    <tr>\n",
       "      <td>0</td>\n",
       "      <td>24/03/2016 11:52</td>\n",
       "      <td>NaN</td>\n",
       "      <td>manual</td>\n",
       "      <td>golf</td>\n",
       "      <td>petrol</td>\n",
       "      <td>volkswagen</td>\n",
       "      <td>NaN</td>\n",
       "      <td>24/03/2016 00:00</td>\n",
       "      <td>07/04/2016 03:16</td>\n",
       "    </tr>\n",
       "    <tr>\n",
       "      <td>1</td>\n",
       "      <td>24/03/2016 10:58</td>\n",
       "      <td>coupe</td>\n",
       "      <td>manual</td>\n",
       "      <td>NaN</td>\n",
       "      <td>gasoline</td>\n",
       "      <td>audi</td>\n",
       "      <td>yes</td>\n",
       "      <td>24/03/2016 00:00</td>\n",
       "      <td>07/04/2016 01:46</td>\n",
       "    </tr>\n",
       "    <tr>\n",
       "      <td>2</td>\n",
       "      <td>14/03/2016 12:52</td>\n",
       "      <td>suv</td>\n",
       "      <td>auto</td>\n",
       "      <td>grand</td>\n",
       "      <td>gasoline</td>\n",
       "      <td>jeep</td>\n",
       "      <td>NaN</td>\n",
       "      <td>14/03/2016 00:00</td>\n",
       "      <td>05/04/2016 12:47</td>\n",
       "    </tr>\n",
       "    <tr>\n",
       "      <td>3</td>\n",
       "      <td>17/03/2016 16:54</td>\n",
       "      <td>small</td>\n",
       "      <td>manual</td>\n",
       "      <td>golf</td>\n",
       "      <td>petrol</td>\n",
       "      <td>volkswagen</td>\n",
       "      <td>no</td>\n",
       "      <td>17/03/2016 00:00</td>\n",
       "      <td>17/03/2016 17:40</td>\n",
       "    </tr>\n",
       "    <tr>\n",
       "      <td>4</td>\n",
       "      <td>31/03/2016 17:25</td>\n",
       "      <td>small</td>\n",
       "      <td>manual</td>\n",
       "      <td>fabia</td>\n",
       "      <td>gasoline</td>\n",
       "      <td>skoda</td>\n",
       "      <td>no</td>\n",
       "      <td>31/03/2016 00:00</td>\n",
       "      <td>06/04/2016 10:17</td>\n",
       "    </tr>\n",
       "    <tr>\n",
       "      <td>5</td>\n",
       "      <td>04/04/2016 17:36</td>\n",
       "      <td>sedan</td>\n",
       "      <td>manual</td>\n",
       "      <td>3er</td>\n",
       "      <td>petrol</td>\n",
       "      <td>bmw</td>\n",
       "      <td>yes</td>\n",
       "      <td>04/04/2016 00:00</td>\n",
       "      <td>06/04/2016 19:17</td>\n",
       "    </tr>\n",
       "    <tr>\n",
       "      <td>6</td>\n",
       "      <td>01/04/2016 20:48</td>\n",
       "      <td>convertible</td>\n",
       "      <td>manual</td>\n",
       "      <td>2_reihe</td>\n",
       "      <td>petrol</td>\n",
       "      <td>peugeot</td>\n",
       "      <td>no</td>\n",
       "      <td>01/04/2016 00:00</td>\n",
       "      <td>05/04/2016 18:18</td>\n",
       "    </tr>\n",
       "    <tr>\n",
       "      <td>7</td>\n",
       "      <td>21/03/2016 18:54</td>\n",
       "      <td>sedan</td>\n",
       "      <td>manual</td>\n",
       "      <td>other</td>\n",
       "      <td>petrol</td>\n",
       "      <td>volkswagen</td>\n",
       "      <td>no</td>\n",
       "      <td>21/03/2016 00:00</td>\n",
       "      <td>25/03/2016 16:47</td>\n",
       "    </tr>\n",
       "    <tr>\n",
       "      <td>8</td>\n",
       "      <td>04/04/2016 23:42</td>\n",
       "      <td>bus</td>\n",
       "      <td>manual</td>\n",
       "      <td>c_max</td>\n",
       "      <td>petrol</td>\n",
       "      <td>ford</td>\n",
       "      <td>NaN</td>\n",
       "      <td>04/04/2016 00:00</td>\n",
       "      <td>04/04/2016 23:42</td>\n",
       "    </tr>\n",
       "    <tr>\n",
       "      <td>9</td>\n",
       "      <td>17/03/2016 10:53</td>\n",
       "      <td>small</td>\n",
       "      <td>manual</td>\n",
       "      <td>golf</td>\n",
       "      <td>NaN</td>\n",
       "      <td>volkswagen</td>\n",
       "      <td>NaN</td>\n",
       "      <td>17/03/2016 00:00</td>\n",
       "      <td>31/03/2016 17:17</td>\n",
       "    </tr>\n",
       "  </tbody>\n",
       "</table>\n",
       "</div>"
      ],
      "text/plain": [
       "        DateCrawled  VehicleType Gearbox    Model  FuelType       Brand  \\\n",
       "0  24/03/2016 11:52          NaN  manual     golf    petrol  volkswagen   \n",
       "1  24/03/2016 10:58        coupe  manual      NaN  gasoline        audi   \n",
       "2  14/03/2016 12:52          suv    auto    grand  gasoline        jeep   \n",
       "3  17/03/2016 16:54        small  manual     golf    petrol  volkswagen   \n",
       "4  31/03/2016 17:25        small  manual    fabia  gasoline       skoda   \n",
       "5  04/04/2016 17:36        sedan  manual      3er    petrol         bmw   \n",
       "6  01/04/2016 20:48  convertible  manual  2_reihe    petrol     peugeot   \n",
       "7  21/03/2016 18:54        sedan  manual    other    petrol  volkswagen   \n",
       "8  04/04/2016 23:42          bus  manual    c_max    petrol        ford   \n",
       "9  17/03/2016 10:53        small  manual     golf       NaN  volkswagen   \n",
       "\n",
       "  NotRepaired       DateCreated          LastSeen  \n",
       "0         NaN  24/03/2016 00:00  07/04/2016 03:16  \n",
       "1         yes  24/03/2016 00:00  07/04/2016 01:46  \n",
       "2         NaN  14/03/2016 00:00  05/04/2016 12:47  \n",
       "3          no  17/03/2016 00:00  17/03/2016 17:40  \n",
       "4          no  31/03/2016 00:00  06/04/2016 10:17  \n",
       "5         yes  04/04/2016 00:00  06/04/2016 19:17  \n",
       "6          no  01/04/2016 00:00  05/04/2016 18:18  \n",
       "7          no  21/03/2016 00:00  25/03/2016 16:47  \n",
       "8         NaN  04/04/2016 00:00  04/04/2016 23:42  \n",
       "9         NaN  17/03/2016 00:00  31/03/2016 17:17  "
      ]
     },
     "execution_count": 16,
     "metadata": {},
     "output_type": "execute_result"
    }
   ],
   "source": [
    "data.loc[:,['DateCrawled', 'VehicleType', 'Gearbox', 'Model', \\\n",
    "            'FuelType', 'Brand', 'NotRepaired', 'DateCreated', 'LastSeen']].head(10)"
   ]
  },
  {
   "cell_type": "code",
   "execution_count": 17,
   "metadata": {},
   "outputs": [
    {
     "data": {
      "text/html": [
       "<div>\n",
       "<style scoped>\n",
       "    .dataframe tbody tr th:only-of-type {\n",
       "        vertical-align: middle;\n",
       "    }\n",
       "\n",
       "    .dataframe tbody tr th {\n",
       "        vertical-align: top;\n",
       "    }\n",
       "\n",
       "    .dataframe thead th {\n",
       "        text-align: right;\n",
       "    }\n",
       "</style>\n",
       "<table border=\"1\" class=\"dataframe\">\n",
       "  <thead>\n",
       "    <tr style=\"text-align: right;\">\n",
       "      <th></th>\n",
       "      <th>Price</th>\n",
       "      <th>RegistrationYear</th>\n",
       "      <th>Power</th>\n",
       "      <th>Mileage</th>\n",
       "      <th>RegistrationMonth</th>\n",
       "      <th>NumberOfPictures</th>\n",
       "      <th>PostalCode</th>\n",
       "    </tr>\n",
       "  </thead>\n",
       "  <tbody>\n",
       "    <tr>\n",
       "      <td>count</td>\n",
       "      <td>354369.000000</td>\n",
       "      <td>354369.000000</td>\n",
       "      <td>354369.000000</td>\n",
       "      <td>354369.000000</td>\n",
       "      <td>354369.000000</td>\n",
       "      <td>354369.0</td>\n",
       "      <td>354369.000000</td>\n",
       "    </tr>\n",
       "    <tr>\n",
       "      <td>mean</td>\n",
       "      <td>4416.656776</td>\n",
       "      <td>2004.234448</td>\n",
       "      <td>110.094337</td>\n",
       "      <td>128211.172535</td>\n",
       "      <td>5.714645</td>\n",
       "      <td>0.0</td>\n",
       "      <td>50508.689087</td>\n",
       "    </tr>\n",
       "    <tr>\n",
       "      <td>std</td>\n",
       "      <td>4514.158514</td>\n",
       "      <td>90.227958</td>\n",
       "      <td>189.850405</td>\n",
       "      <td>37905.341530</td>\n",
       "      <td>3.726421</td>\n",
       "      <td>0.0</td>\n",
       "      <td>25783.096248</td>\n",
       "    </tr>\n",
       "    <tr>\n",
       "      <td>min</td>\n",
       "      <td>0.000000</td>\n",
       "      <td>1000.000000</td>\n",
       "      <td>0.000000</td>\n",
       "      <td>5000.000000</td>\n",
       "      <td>0.000000</td>\n",
       "      <td>0.0</td>\n",
       "      <td>1067.000000</td>\n",
       "    </tr>\n",
       "    <tr>\n",
       "      <td>25%</td>\n",
       "      <td>1050.000000</td>\n",
       "      <td>1999.000000</td>\n",
       "      <td>69.000000</td>\n",
       "      <td>125000.000000</td>\n",
       "      <td>3.000000</td>\n",
       "      <td>0.0</td>\n",
       "      <td>30165.000000</td>\n",
       "    </tr>\n",
       "    <tr>\n",
       "      <td>50%</td>\n",
       "      <td>2700.000000</td>\n",
       "      <td>2003.000000</td>\n",
       "      <td>105.000000</td>\n",
       "      <td>150000.000000</td>\n",
       "      <td>6.000000</td>\n",
       "      <td>0.0</td>\n",
       "      <td>49413.000000</td>\n",
       "    </tr>\n",
       "    <tr>\n",
       "      <td>75%</td>\n",
       "      <td>6400.000000</td>\n",
       "      <td>2008.000000</td>\n",
       "      <td>143.000000</td>\n",
       "      <td>150000.000000</td>\n",
       "      <td>9.000000</td>\n",
       "      <td>0.0</td>\n",
       "      <td>71083.000000</td>\n",
       "    </tr>\n",
       "    <tr>\n",
       "      <td>max</td>\n",
       "      <td>20000.000000</td>\n",
       "      <td>9999.000000</td>\n",
       "      <td>20000.000000</td>\n",
       "      <td>150000.000000</td>\n",
       "      <td>12.000000</td>\n",
       "      <td>0.0</td>\n",
       "      <td>99998.000000</td>\n",
       "    </tr>\n",
       "  </tbody>\n",
       "</table>\n",
       "</div>"
      ],
      "text/plain": [
       "               Price  RegistrationYear          Power        Mileage  \\\n",
       "count  354369.000000     354369.000000  354369.000000  354369.000000   \n",
       "mean     4416.656776       2004.234448     110.094337  128211.172535   \n",
       "std      4514.158514         90.227958     189.850405   37905.341530   \n",
       "min         0.000000       1000.000000       0.000000    5000.000000   \n",
       "25%      1050.000000       1999.000000      69.000000  125000.000000   \n",
       "50%      2700.000000       2003.000000     105.000000  150000.000000   \n",
       "75%      6400.000000       2008.000000     143.000000  150000.000000   \n",
       "max     20000.000000       9999.000000   20000.000000  150000.000000   \n",
       "\n",
       "       RegistrationMonth  NumberOfPictures     PostalCode  \n",
       "count      354369.000000          354369.0  354369.000000  \n",
       "mean            5.714645               0.0   50508.689087  \n",
       "std             3.726421               0.0   25783.096248  \n",
       "min             0.000000               0.0    1067.000000  \n",
       "25%             3.000000               0.0   30165.000000  \n",
       "50%             6.000000               0.0   49413.000000  \n",
       "75%             9.000000               0.0   71083.000000  \n",
       "max            12.000000               0.0   99998.000000  "
      ]
     },
     "execution_count": 17,
     "metadata": {},
     "output_type": "execute_result"
    }
   ],
   "source": [
    "data.describe()"
   ]
  },
  {
   "cell_type": "markdown",
   "metadata": {},
   "source": [
    "RegistrationYear has incorrect values like 1000, 9999\n",
    "\n",
    "NumberOfPictures is all zeros and can be dropped\n",
    "\n",
    "Power has extreem outliers"
   ]
  },
  {
   "cell_type": "markdown",
   "metadata": {},
   "source": [
    "## Removing incorrect values"
   ]
  },
  {
   "cell_type": "code",
   "execution_count": 18,
   "metadata": {},
   "outputs": [],
   "source": [
    "#dropping NumberOfPictures\n",
    "data_edit = data_edit.drop('NumberOfPictures', axis=1)"
   ]
  },
  {
   "cell_type": "code",
   "execution_count": 19,
   "metadata": {},
   "outputs": [
    {
     "data": {
      "text/plain": [
       "Text(0, 0.5, 'Counts')"
      ]
     },
     "execution_count": 19,
     "metadata": {},
     "output_type": "execute_result"
    },
    {
     "data": {
      "image/png": "[encoded data removed]",
      "text/plain": [
       "<Figure size 432x288 with 1 Axes>"
      ]
     },
     "metadata": {
      "needs_background": "light"
     },
     "output_type": "display_data"
    }
   ],
   "source": [
    "plt.figure;\n",
    "plt.hist(x= data_edit['Power'], bins=100, range=(0,1000))\n",
    "plt.title('Power histogram')\n",
    "plt.xlabel('Power [hp]')\n",
    "plt.ylabel('Counts')\n"
   ]
  },
  {
   "cell_type": "code",
   "execution_count": 20,
   "metadata": {},
   "outputs": [],
   "source": [
    "#setting outliers to nan\n",
    "data_edit.loc[(data_edit['Power']==0) | (data_edit['Power']>600),'Power'] = np.nan"
   ]
  },
  {
   "cell_type": "code",
   "execution_count": 21,
   "metadata": {},
   "outputs": [
    {
     "name": "stderr",
     "output_type": "stream",
     "text": [
      "C:\\Users\\Yael\\Anaconda3\\lib\\site-packages\\numpy\\lib\\histograms.py:824: RuntimeWarning: invalid value encountered in greater_equal\n",
      "  keep = (tmp_a >= first_edge)\n",
      "C:\\Users\\Yael\\Anaconda3\\lib\\site-packages\\numpy\\lib\\histograms.py:825: RuntimeWarning: invalid value encountered in less_equal\n",
      "  keep &= (tmp_a <= last_edge)\n"
     ]
    },
    {
     "data": {
      "text/plain": [
       "Text(0, 0.5, 'Counts')"
      ]
     },
     "execution_count": 21,
     "metadata": {},
     "output_type": "execute_result"
    },
    {
     "data": {
      "image/png": "[encoded data removed]",
      "text/plain": [
       "<Figure size 432x288 with 1 Axes>"
      ]
     },
     "metadata": {
      "needs_background": "light"
     },
     "output_type": "display_data"
    }
   ],
   "source": [
    "plt.figure;\n",
    "plt.hist(x= data_edit['Power'], bins=100, range=(0,1000))\n",
    "plt.title('Power histogram after removing outliers')\n",
    "plt.xlabel('Power [hp]')\n",
    "plt.ylabel('Counts')"
   ]
  },
  {
   "cell_type": "code",
   "execution_count": 22,
   "metadata": {},
   "outputs": [],
   "source": [
    "#setting incorrect RegistrationYear to nan\n",
    "data_edit.loc[(data_edit['RegistrationYear']<1960) | (data_edit['RegistrationYear']>2020), 'RegistrationYear'] = np.nan"
   ]
  },
  {
   "cell_type": "markdown",
   "metadata": {},
   "source": [
    "## Converting dates to date parts"
   ]
  },
  {
   "cell_type": "code",
   "execution_count": 23,
   "metadata": {},
   "outputs": [],
   "source": [
    "#converting dates to datetime\n",
    "for col in ['DateCrawled','DateCreated','LastSeen']:\n",
    "    data_edit.loc[:,col] = pd.to_datetime(data_edit.loc[:, col],format='%d/%m/%Y %H:%M')\n",
    "    for attr in ['year', 'month', 'day','minute']:\n",
    "            data_edit.loc[:,col+'_'+attr] = getattr(data_edit.loc[:,col].dt, attr)\n",
    "    data_edit = data_edit.drop(col,axis=1)"
   ]
  },
  {
   "cell_type": "code",
   "execution_count": 24,
   "metadata": {},
   "outputs": [
    {
     "data": {
      "text/html": [
       "<div>\n",
       "<style scoped>\n",
       "    .dataframe tbody tr th:only-of-type {\n",
       "        vertical-align: middle;\n",
       "    }\n",
       "\n",
       "    .dataframe tbody tr th {\n",
       "        vertical-align: top;\n",
       "    }\n",
       "\n",
       "    .dataframe thead th {\n",
       "        text-align: right;\n",
       "    }\n",
       "</style>\n",
       "<table border=\"1\" class=\"dataframe\">\n",
       "  <thead>\n",
       "    <tr style=\"text-align: right;\">\n",
       "      <th></th>\n",
       "      <th>Price</th>\n",
       "      <th>RegistrationYear</th>\n",
       "      <th>Power</th>\n",
       "      <th>Mileage</th>\n",
       "      <th>RegistrationMonth</th>\n",
       "      <th>PostalCode</th>\n",
       "      <th>DateCrawled_year</th>\n",
       "      <th>DateCrawled_month</th>\n",
       "      <th>DateCrawled_day</th>\n",
       "      <th>DateCrawled_minute</th>\n",
       "      <th>DateCreated_year</th>\n",
       "      <th>DateCreated_month</th>\n",
       "      <th>DateCreated_day</th>\n",
       "      <th>DateCreated_minute</th>\n",
       "      <th>LastSeen_year</th>\n",
       "      <th>LastSeen_month</th>\n",
       "      <th>LastSeen_day</th>\n",
       "      <th>LastSeen_minute</th>\n",
       "    </tr>\n",
       "  </thead>\n",
       "  <tbody>\n",
       "    <tr>\n",
       "      <td>count</td>\n",
       "      <td>354369.000000</td>\n",
       "      <td>353842.000000</td>\n",
       "      <td>313760.000000</td>\n",
       "      <td>354369.000000</td>\n",
       "      <td>354369.000000</td>\n",
       "      <td>354369.000000</td>\n",
       "      <td>354369.0</td>\n",
       "      <td>354369.000000</td>\n",
       "      <td>354369.000000</td>\n",
       "      <td>354369.000000</td>\n",
       "      <td>354369.000000</td>\n",
       "      <td>354369.000000</td>\n",
       "      <td>354369.000000</td>\n",
       "      <td>354369.0</td>\n",
       "      <td>354369.0</td>\n",
       "      <td>354369.000000</td>\n",
       "      <td>354369.000000</td>\n",
       "      <td>354369.000000</td>\n",
       "    </tr>\n",
       "    <tr>\n",
       "      <td>mean</td>\n",
       "      <td>4416.656776</td>\n",
       "      <td>2003.150092</td>\n",
       "      <td>120.127470</td>\n",
       "      <td>128211.172535</td>\n",
       "      <td>5.714645</td>\n",
       "      <td>50508.689087</td>\n",
       "      <td>2016.0</td>\n",
       "      <td>3.162387</td>\n",
       "      <td>15.852783</td>\n",
       "      <td>46.132196</td>\n",
       "      <td>2015.999924</td>\n",
       "      <td>3.160189</td>\n",
       "      <td>15.859689</td>\n",
       "      <td>0.0</td>\n",
       "      <td>2016.0</td>\n",
       "      <td>3.564987</td>\n",
       "      <td>11.963456</td>\n",
       "      <td>33.267868</td>\n",
       "    </tr>\n",
       "    <tr>\n",
       "      <td>std</td>\n",
       "      <td>4514.158514</td>\n",
       "      <td>7.226510</td>\n",
       "      <td>53.892168</td>\n",
       "      <td>37905.341530</td>\n",
       "      <td>3.726421</td>\n",
       "      <td>25783.096248</td>\n",
       "      <td>0.0</td>\n",
       "      <td>0.368806</td>\n",
       "      <td>9.116311</td>\n",
       "      <td>11.044813</td>\n",
       "      <td>0.009046</td>\n",
       "      <td>0.376284</td>\n",
       "      <td>9.123133</td>\n",
       "      <td>0.0</td>\n",
       "      <td>0.0</td>\n",
       "      <td>0.495759</td>\n",
       "      <td>8.886562</td>\n",
       "      <td>14.693983</td>\n",
       "    </tr>\n",
       "    <tr>\n",
       "      <td>min</td>\n",
       "      <td>0.000000</td>\n",
       "      <td>1960.000000</td>\n",
       "      <td>1.000000</td>\n",
       "      <td>5000.000000</td>\n",
       "      <td>0.000000</td>\n",
       "      <td>1067.000000</td>\n",
       "      <td>2016.0</td>\n",
       "      <td>3.000000</td>\n",
       "      <td>1.000000</td>\n",
       "      <td>0.000000</td>\n",
       "      <td>2014.000000</td>\n",
       "      <td>1.000000</td>\n",
       "      <td>1.000000</td>\n",
       "      <td>0.0</td>\n",
       "      <td>2016.0</td>\n",
       "      <td>3.000000</td>\n",
       "      <td>1.000000</td>\n",
       "      <td>0.000000</td>\n",
       "    </tr>\n",
       "    <tr>\n",
       "      <td>25%</td>\n",
       "      <td>1050.000000</td>\n",
       "      <td>1999.000000</td>\n",
       "      <td>75.000000</td>\n",
       "      <td>125000.000000</td>\n",
       "      <td>3.000000</td>\n",
       "      <td>30165.000000</td>\n",
       "      <td>2016.0</td>\n",
       "      <td>3.000000</td>\n",
       "      <td>8.000000</td>\n",
       "      <td>40.000000</td>\n",
       "      <td>2016.000000</td>\n",
       "      <td>3.000000</td>\n",
       "      <td>8.000000</td>\n",
       "      <td>0.0</td>\n",
       "      <td>2016.0</td>\n",
       "      <td>3.000000</td>\n",
       "      <td>6.000000</td>\n",
       "      <td>17.000000</td>\n",
       "    </tr>\n",
       "    <tr>\n",
       "      <td>50%</td>\n",
       "      <td>2700.000000</td>\n",
       "      <td>2003.000000</td>\n",
       "      <td>110.000000</td>\n",
       "      <td>150000.000000</td>\n",
       "      <td>6.000000</td>\n",
       "      <td>49413.000000</td>\n",
       "      <td>2016.0</td>\n",
       "      <td>3.000000</td>\n",
       "      <td>16.000000</td>\n",
       "      <td>49.000000</td>\n",
       "      <td>2016.000000</td>\n",
       "      <td>3.000000</td>\n",
       "      <td>16.000000</td>\n",
       "      <td>0.0</td>\n",
       "      <td>2016.0</td>\n",
       "      <td>4.000000</td>\n",
       "      <td>7.000000</td>\n",
       "      <td>44.000000</td>\n",
       "    </tr>\n",
       "    <tr>\n",
       "      <td>75%</td>\n",
       "      <td>6400.000000</td>\n",
       "      <td>2008.000000</td>\n",
       "      <td>150.000000</td>\n",
       "      <td>150000.000000</td>\n",
       "      <td>9.000000</td>\n",
       "      <td>71083.000000</td>\n",
       "      <td>2016.0</td>\n",
       "      <td>3.000000</td>\n",
       "      <td>24.000000</td>\n",
       "      <td>54.000000</td>\n",
       "      <td>2016.000000</td>\n",
       "      <td>3.000000</td>\n",
       "      <td>24.000000</td>\n",
       "      <td>0.0</td>\n",
       "      <td>2016.0</td>\n",
       "      <td>4.000000</td>\n",
       "      <td>19.000000</td>\n",
       "      <td>46.000000</td>\n",
       "    </tr>\n",
       "    <tr>\n",
       "      <td>max</td>\n",
       "      <td>20000.000000</td>\n",
       "      <td>2019.000000</td>\n",
       "      <td>600.000000</td>\n",
       "      <td>150000.000000</td>\n",
       "      <td>12.000000</td>\n",
       "      <td>99998.000000</td>\n",
       "      <td>2016.0</td>\n",
       "      <td>4.000000</td>\n",
       "      <td>31.000000</td>\n",
       "      <td>59.000000</td>\n",
       "      <td>2016.000000</td>\n",
       "      <td>12.000000</td>\n",
       "      <td>31.000000</td>\n",
       "      <td>0.0</td>\n",
       "      <td>2016.0</td>\n",
       "      <td>4.000000</td>\n",
       "      <td>31.000000</td>\n",
       "      <td>59.000000</td>\n",
       "    </tr>\n",
       "  </tbody>\n",
       "</table>\n",
       "</div>"
      ],
      "text/plain": [
       "               Price  RegistrationYear          Power        Mileage  \\\n",
       "count  354369.000000     353842.000000  313760.000000  354369.000000   \n",
       "mean     4416.656776       2003.150092     120.127470  128211.172535   \n",
       "std      4514.158514          7.226510      53.892168   37905.341530   \n",
       "min         0.000000       1960.000000       1.000000    5000.000000   \n",
       "25%      1050.000000       1999.000000      75.000000  125000.000000   \n",
       "50%      2700.000000       2003.000000     110.000000  150000.000000   \n",
       "75%      6400.000000       2008.000000     150.000000  150000.000000   \n",
       "max     20000.000000       2019.000000     600.000000  150000.000000   \n",
       "\n",
       "       RegistrationMonth     PostalCode  DateCrawled_year  DateCrawled_month  \\\n",
       "count      354369.000000  354369.000000          354369.0      354369.000000   \n",
       "mean            5.714645   50508.689087            2016.0           3.162387   \n",
       "std             3.726421   25783.096248               0.0           0.368806   \n",
       "min             0.000000    1067.000000            2016.0           3.000000   \n",
       "25%             3.000000   30165.000000            2016.0           3.000000   \n",
       "50%             6.000000   49413.000000            2016.0           3.000000   \n",
       "75%             9.000000   71083.000000            2016.0           3.000000   \n",
       "max            12.000000   99998.000000            2016.0           4.000000   \n",
       "\n",
       "       DateCrawled_day  DateCrawled_minute  DateCreated_year  \\\n",
       "count    354369.000000       354369.000000     354369.000000   \n",
       "mean         15.852783           46.132196       2015.999924   \n",
       "std           9.116311           11.044813          0.009046   \n",
       "min           1.000000            0.000000       2014.000000   \n",
       "25%           8.000000           40.000000       2016.000000   \n",
       "50%          16.000000           49.000000       2016.000000   \n",
       "75%          24.000000           54.000000       2016.000000   \n",
       "max          31.000000           59.000000       2016.000000   \n",
       "\n",
       "       DateCreated_month  DateCreated_day  DateCreated_minute  LastSeen_year  \\\n",
       "count      354369.000000    354369.000000            354369.0       354369.0   \n",
       "mean            3.160189        15.859689                 0.0         2016.0   \n",
       "std             0.376284         9.123133                 0.0            0.0   \n",
       "min             1.000000         1.000000                 0.0         2016.0   \n",
       "25%             3.000000         8.000000                 0.0         2016.0   \n",
       "50%             3.000000        16.000000                 0.0         2016.0   \n",
       "75%             3.000000        24.000000                 0.0         2016.0   \n",
       "max            12.000000        31.000000                 0.0         2016.0   \n",
       "\n",
       "       LastSeen_month   LastSeen_day  LastSeen_minute  \n",
       "count   354369.000000  354369.000000    354369.000000  \n",
       "mean         3.564987      11.963456        33.267868  \n",
       "std          0.495759       8.886562        14.693983  \n",
       "min          3.000000       1.000000         0.000000  \n",
       "25%          3.000000       6.000000        17.000000  \n",
       "50%          4.000000       7.000000        44.000000  \n",
       "75%          4.000000      19.000000        46.000000  \n",
       "max          4.000000      31.000000        59.000000  "
      ]
     },
     "execution_count": 24,
     "metadata": {},
     "output_type": "execute_result"
    }
   ],
   "source": [
    "data_edit.describe()"
   ]
  },
  {
   "cell_type": "markdown",
   "metadata": {},
   "source": [
    "## Splitting to sets"
   ]
  },
  {
   "cell_type": "code",
   "execution_count": 25,
   "metadata": {},
   "outputs": [],
   "source": [
    "data_sets = defaultdict(dict)\n",
    "data_sets['train']['features'], data_sets['test']['features'], data_sets['train']['target'], data_sets['test']['target']\\\n",
    "= train_test_split(data_edit.drop('Price',axis=1), \\\n",
    "                   data_edit['Price'], \\\n",
    "                   test_size=0.25, random_state=12345)"
   ]
  },
  {
   "cell_type": "markdown",
   "metadata": {},
   "source": [
    "for reviewer:\n",
    "\n",
    "I did use cross validation so I don't see why I need a validation set (we are supposed to test all models and not choose only one).\n",
    "\n",
    "linear regression - no parameter tuning\n",
    "\n",
    "random forest - I used cross_validate on training set\n",
    "\n",
    "catboost - I used grid_search on training set\n",
    "\n",
    "lightGBM - I used grid_search_cv\n"
   ]
  },
  {
   "cell_type": "markdown",
   "metadata": {},
   "source": [
    "## Imputing missing values"
   ]
  },
  {
   "cell_type": "markdown",
   "metadata": {},
   "source": [
    "### Imputing missing values in categorical features"
   ]
  },
  {
   "cell_type": "code",
   "execution_count": 26,
   "metadata": {},
   "outputs": [
    {
     "data": {
      "text/html": [
       "<div>\n",
       "<style scoped>\n",
       "    .dataframe tbody tr th:only-of-type {\n",
       "        vertical-align: middle;\n",
       "    }\n",
       "\n",
       "    .dataframe tbody tr th {\n",
       "        vertical-align: top;\n",
       "    }\n",
       "\n",
       "    .dataframe thead th {\n",
       "        text-align: right;\n",
       "    }\n",
       "</style>\n",
       "<table border=\"1\" class=\"dataframe\">\n",
       "  <thead>\n",
       "    <tr style=\"text-align: right;\">\n",
       "      <th></th>\n",
       "      <th>VehicleType</th>\n",
       "      <th>Gearbox</th>\n",
       "      <th>Model</th>\n",
       "      <th>FuelType</th>\n",
       "      <th>Brand</th>\n",
       "      <th>NotRepaired</th>\n",
       "    </tr>\n",
       "  </thead>\n",
       "  <tbody>\n",
       "    <tr>\n",
       "      <td>0</td>\n",
       "      <td>sedan</td>\n",
       "      <td>manual</td>\n",
       "      <td>golf</td>\n",
       "      <td>petrol</td>\n",
       "      <td>volkswagen</td>\n",
       "      <td>no</td>\n",
       "    </tr>\n",
       "  </tbody>\n",
       "</table>\n",
       "</div>"
      ],
      "text/plain": [
       "  VehicleType Gearbox Model FuelType       Brand NotRepaired\n",
       "0       sedan  manual  golf   petrol  volkswagen          no"
      ]
     },
     "execution_count": 26,
     "metadata": {},
     "output_type": "execute_result"
    }
   ],
   "source": [
    "obj_cols = ['VehicleType', 'Gearbox', 'Model', 'FuelType','Brand',  'NotRepaired']\n",
    "#getting most frequent values of categorical columns\n",
    "most_freq = data_sets['train']['features'][obj_cols].mode()\n",
    "most_freq"
   ]
  },
  {
   "cell_type": "code",
   "execution_count": 27,
   "metadata": {},
   "outputs": [
    {
     "data": {
      "text/plain": [
       "no     185347\n",
       "yes     27053\n",
       "Name: NotRepaired, dtype: int64"
      ]
     },
     "execution_count": 27,
     "metadata": {},
     "output_type": "execute_result"
    }
   ],
   "source": [
    "data_sets['train']['features']['NotRepaired'].value_counts()"
   ]
  },
  {
   "cell_type": "code",
   "execution_count": 28,
   "metadata": {},
   "outputs": [],
   "source": [
    "data_sets_imputed = defaultdict(dict)\n",
    "data_sets_imputed['train']['features'] = data_sets['train']['features'].copy()\n",
    "data_sets_imputed['test']['features'] = data_sets['test']['features'].copy()\n",
    "for col in obj_cols:\n",
    "    data_sets_imputed['train']['features'].loc[:,col] = \\\n",
    "    data_sets_imputed['train']['features'].loc[:,col].fillna(value=most_freq[col][0])\n",
    "    data_sets_imputed['test']['features'].loc[:,col] = \\\n",
    "    data_sets_imputed['test']['features'].loc[:,col].fillna(value=most_freq[col][0])"
   ]
  },
  {
   "cell_type": "code",
   "execution_count": 29,
   "metadata": {},
   "outputs": [
    {
     "data": {
      "text/plain": [
       "VehicleType               0\n",
       "RegistrationYear        386\n",
       "Gearbox                   0\n",
       "Power                 30459\n",
       "Model                     0\n",
       "Mileage                   0\n",
       "RegistrationMonth         0\n",
       "FuelType                  0\n",
       "Brand                     0\n",
       "NotRepaired               0\n",
       "PostalCode                0\n",
       "DateCrawled_year          0\n",
       "DateCrawled_month         0\n",
       "DateCrawled_day           0\n",
       "DateCrawled_minute        0\n",
       "DateCreated_year          0\n",
       "DateCreated_month         0\n",
       "DateCreated_day           0\n",
       "DateCreated_minute        0\n",
       "LastSeen_year             0\n",
       "LastSeen_month            0\n",
       "LastSeen_day              0\n",
       "LastSeen_minute           0\n",
       "dtype: int64"
      ]
     },
     "execution_count": 29,
     "metadata": {},
     "output_type": "execute_result"
    }
   ],
   "source": [
    "data_sets_imputed['train']['features'].isna().sum()"
   ]
  },
  {
   "cell_type": "markdown",
   "metadata": {},
   "source": [
    "### Imputing missing values in numerical features"
   ]
  },
  {
   "cell_type": "code",
   "execution_count": 30,
   "metadata": {},
   "outputs": [],
   "source": [
    "#imputing RegistrationYear with mean value\n",
    "RegistrationYear_mean = data_sets['train']['features']['RegistrationYear'].mean()\n",
    "data_sets_imputed['train']['features'].loc[:,'RegistrationYear'] = \\\n",
    "data_sets_imputed['train']['features'].loc[:,'RegistrationYear'].fillna(value=RegistrationYear_mean).round()\n",
    "data_sets_imputed['test']['features'].loc[:,'RegistrationYear'] = \\\n",
    "data_sets_imputed['test']['features'].loc[:,'RegistrationYear'].fillna(value=RegistrationYear_mean).round()"
   ]
  },
  {
   "cell_type": "code",
   "execution_count": 31,
   "metadata": {},
   "outputs": [],
   "source": [
    "#imputing Power with mean value\n",
    "Power_mean = data_sets['train']['features']['Power'].mean()\n",
    "data_sets_imputed['train']['features'].loc[:,'Power'] = \\\n",
    "data_sets_imputed['train']['features'].loc[:,'Power'].fillna(value=Power_mean)\n",
    "data_sets_imputed['test']['features'].loc[:,'Power'] = \\\n",
    "data_sets_imputed['test']['features'].loc[:,'Power'].fillna(value=Power_mean)"
   ]
  },
  {
   "cell_type": "code",
   "execution_count": 32,
   "metadata": {},
   "outputs": [
    {
     "data": {
      "text/plain": [
       "VehicleType           0\n",
       "RegistrationYear      0\n",
       "Gearbox               0\n",
       "Power                 0\n",
       "Model                 0\n",
       "Mileage               0\n",
       "RegistrationMonth     0\n",
       "FuelType              0\n",
       "Brand                 0\n",
       "NotRepaired           0\n",
       "PostalCode            0\n",
       "DateCrawled_year      0\n",
       "DateCrawled_month     0\n",
       "DateCrawled_day       0\n",
       "DateCrawled_minute    0\n",
       "DateCreated_year      0\n",
       "DateCreated_month     0\n",
       "DateCreated_day       0\n",
       "DateCreated_minute    0\n",
       "LastSeen_year         0\n",
       "LastSeen_month        0\n",
       "LastSeen_day          0\n",
       "LastSeen_minute       0\n",
       "dtype: int64"
      ]
     },
     "execution_count": 32,
     "metadata": {},
     "output_type": "execute_result"
    }
   ],
   "source": [
    "data_sets_imputed['train']['features'].isna().sum()"
   ]
  },
  {
   "cell_type": "markdown",
   "metadata": {},
   "source": [
    "## Encoding labels"
   ]
  },
  {
   "cell_type": "code",
   "execution_count": 33,
   "metadata": {},
   "outputs": [],
   "source": [
    "data_sets_ohe = defaultdict(dict)\n",
    "#columns to encode\n",
    "#saving a copy of original catrgories\n",
    "obj_set_train = data_sets_imputed['train']['features'][obj_cols].copy()\n",
    "obj_set_test = data_sets_imputed['test']['features'][obj_cols].copy()\n",
    "#one hot encoding above columns\n",
    "data_sets_ohe['train']['features'] = pd.concat([data_sets_imputed['train']['features'].drop(obj_cols, axis=1), \\\n",
    "                                            pd.get_dummies(data_sets_imputed['train']['features'], columns=obj_cols, \\\n",
    "                                                           drop_first=True )], axis=1)\n",
    "data_sets_ohe['test']['features'] = pd.concat([data_sets_imputed['test']['features'].drop(obj_cols, axis=1), \\\n",
    "                                            pd.get_dummies(data_sets_imputed['test']['features'], columns=obj_cols, \\\n",
    "                                                           drop_first=True)], axis=1)"
   ]
  },
  {
   "cell_type": "code",
   "execution_count": 34,
   "metadata": {},
   "outputs": [
    {
     "data": {
      "text/plain": [
       "Index(['Model_range_rover_evoque', 'Model_samara', 'Model_serie_1',\n",
       "       'Model_serie_3'],\n",
       "      dtype='object')"
      ]
     },
     "execution_count": 34,
     "metadata": {},
     "output_type": "execute_result"
    }
   ],
   "source": [
    "#checking for columns missing in test set\n",
    "data_sets_ohe['train']['features'].columns.difference(data_sets_ohe['test']['features'].columns)"
   ]
  },
  {
   "cell_type": "code",
   "execution_count": 35,
   "metadata": {},
   "outputs": [],
   "source": [
    "#adding zero columns to test set\n",
    "data_sets_ohe['test']['features']['Model_range_rover_evoque'] = 0\n",
    "data_sets_ohe['test']['features']['Model_samara'] = 0\n",
    "data_sets_ohe['test']['features']['Model_serie_1'] = 0\n",
    "data_sets_ohe['test']['features']['Model_serie_3'] = 0"
   ]
  },
  {
   "cell_type": "markdown",
   "metadata": {},
   "source": [
    "## Scaling"
   ]
  },
  {
   "cell_type": "code",
   "execution_count": 36,
   "metadata": {},
   "outputs": [],
   "source": [
    "#Scaling\n",
    "scaler = StandardScaler()\n",
    "scaler.fit(data_sets_ohe['train']['features'])\n",
    "data_sets_ohe['train']['features'] = scaler.transform(data_sets_ohe['train']['features'])\n",
    "data_sets_ohe['test']['features'] = scaler.transform(data_sets_ohe['test']['features'])"
   ]
  },
  {
   "cell_type": "markdown",
   "metadata": {},
   "source": [
    "# 2. Model training"
   ]
  },
  {
   "cell_type": "code",
   "execution_count": 37,
   "metadata": {},
   "outputs": [],
   "source": [
    "results = {}"
   ]
  },
  {
   "cell_type": "markdown",
   "metadata": {},
   "source": [
    "## Linear regression for sanity check"
   ]
  },
  {
   "cell_type": "code",
   "execution_count": 27,
   "metadata": {},
   "outputs": [
    {
     "name": "stdout",
     "output_type": "stream",
     "text": [
      "CPU times: user 17.6 s, sys: 6.47 s, total: 24.1 s\n",
      "Wall time: 24.1 s\n"
     ]
    },
    {
     "data": {
      "text/plain": [
       "LinearRegression(copy_X=True, fit_intercept=True, n_jobs=None, normalize=False)"
      ]
     },
     "execution_count": 27,
     "metadata": {},
     "output_type": "execute_result"
    }
   ],
   "source": [
    "LR_model = LinearRegression()\n",
    "%time LR_model.fit(data_sets_ohe['train']['features'], data_sets['train']['target'])"
   ]
  },
  {
   "cell_type": "code",
   "execution_count": 28,
   "metadata": {},
   "outputs": [
    {
     "name": "stdout",
     "output_type": "stream",
     "text": [
      "CPU times: user 77.7 ms, sys: 7.2 ms, total: 84.8 ms\n",
      "Wall time: 115 ms\n"
     ]
    }
   ],
   "source": [
    "#Final testing linear regression on test set\n",
    "%time LR_predictions = LR_model.predict(data_sets_ohe['test']['features'])"
   ]
  },
  {
   "cell_type": "code",
   "execution_count": 29,
   "metadata": {},
   "outputs": [
    {
     "data": {
      "text/plain": [
       "3843.216211429245"
      ]
     },
     "execution_count": 29,
     "metadata": {},
     "output_type": "execute_result"
    }
   ],
   "source": [
    "mean_squared_error(data_sets['test']['target'],LR_predictions)**0.5"
   ]
  },
  {
   "cell_type": "code",
   "execution_count": 30,
   "metadata": {},
   "outputs": [
    {
     "data": {
      "text/plain": [
       "count    354369.000000\n",
       "mean       4416.656776\n",
       "std        4514.158514\n",
       "min           0.000000\n",
       "25%        1050.000000\n",
       "50%        2700.000000\n",
       "75%        6400.000000\n",
       "max       20000.000000\n",
       "Name: Price, dtype: float64"
      ]
     },
     "execution_count": 30,
     "metadata": {},
     "output_type": "execute_result"
    }
   ],
   "source": [
    "data['Price'].describe()"
   ]
  },
  {
   "cell_type": "code",
   "execution_count": 38,
   "metadata": {},
   "outputs": [],
   "source": [
    "#saving RMSE, training times and evaluation times to result dictionary for later comparison\n",
    "results['Linear'] = [3843, 25.1, 8.82, 33.9, 35.8, 75.4, 8.12, 83.6, 34.3]"
   ]
  },
  {
   "cell_type": "markdown",
   "metadata": {},
   "source": [
    "RMSE for linear regression is 3843, lower than std"
   ]
  },
  {
   "cell_type": "markdown",
   "metadata": {},
   "source": [
    "## Random forest"
   ]
  },
  {
   "cell_type": "code",
   "execution_count": 39,
   "metadata": {},
   "outputs": [],
   "source": [
    "#tuning hyper parameters\n",
    "\n",
    "RF_scores = {}\n",
    "for n in range(4,11):\n",
    "    RF_model = RandomForestRegressor(max_depth=3, n_estimators = n, random_state = 12340+n)\n",
    "    #print(n)\n",
    "    RF_scores[n] = \\\n",
    "    cross_validate(RF_model, data_sets_ohe['train']['features'], data_sets['train']['target'], \\\n",
    "                   cv=5, scoring=('neg_mean_squared_error'))"
   ]
  },
  {
   "cell_type": "code",
   "execution_count": 40,
   "metadata": {},
   "outputs": [
    {
     "name": "stdout",
     "output_type": "stream",
     "text": [
      "\n",
      "n:  4 mean RMSE:  2991.24371892993 max RMSE:  3006.6537384672356\n",
      "\n",
      "n:  5 mean RMSE:  3005.944952351704 max RMSE:  3026.9068257755516\n",
      "\n",
      "n:  6 mean RMSE:  3007.900084291242 max RMSE:  3026.811574803956\n",
      "\n",
      "n:  7 mean RMSE:  3007.9373287801654 max RMSE:  3026.794655914685\n",
      "\n",
      "n:  8 mean RMSE:  3005.1000524142873 max RMSE:  3026.8868505452547\n",
      "\n",
      "n:  9 mean RMSE:  3000.330086657023 max RMSE:  3026.8853889826914\n",
      "\n",
      "n:  10 mean RMSE:  3004.447794872262 max RMSE:  3021.1050390465507\n"
     ]
    }
   ],
   "source": [
    "for n in range(4,11):\n",
    "    print('\\nn: ', n,'mean RMSE: ', np.mean((abs(RF_scores[n]['test_score']))**0.5), \\\n",
    "          'max RMSE: ', np.max((abs(RF_scores[n]['test_score']))**0.5))"
   ]
  },
  {
   "cell_type": "markdown",
   "metadata": {},
   "source": [
    "Smallest RMSE is for n=4 when max_depth=3"
   ]
  },
  {
   "cell_type": "markdown",
   "metadata": {},
   "source": [
    "### Final testing random forest"
   ]
  },
  {
   "cell_type": "code",
   "execution_count": 34,
   "metadata": {},
   "outputs": [
    {
     "name": "stdout",
     "output_type": "stream",
     "text": [
      "CPU times: user 6.71 s, sys: 0 ns, total: 6.71 s\n",
      "Wall time: 7.38 s\n"
     ]
    },
    {
     "data": {
      "text/plain": [
       "RandomForestRegressor(bootstrap=True, criterion='mse', max_depth=3,\n",
       "                      max_features='auto', max_leaf_nodes=None,\n",
       "                      min_impurity_decrease=0.0, min_impurity_split=None,\n",
       "                      min_samples_leaf=1, min_samples_split=2,\n",
       "                      min_weight_fraction_leaf=0.0, n_estimators=4, n_jobs=None,\n",
       "                      oob_score=False, random_state=12344, verbose=0,\n",
       "                      warm_start=False)"
      ]
     },
     "execution_count": 34,
     "metadata": {},
     "output_type": "execute_result"
    }
   ],
   "source": [
    "# testing on test set\n",
    "RF_model = RandomForestRegressor(max_depth=3, n_estimators = 4, random_state = 12340+4)\n",
    "%time RF_model.fit(data_sets_ohe['train']['features'], data_sets['train']['target'])"
   ]
  },
  {
   "cell_type": "code",
   "execution_count": 35,
   "metadata": {},
   "outputs": [
    {
     "name": "stdout",
     "output_type": "stream",
     "text": [
      "CPU times: user 107 ms, sys: 0 ns, total: 107 ms\n",
      "Wall time: 121 ms\n"
     ]
    }
   ],
   "source": [
    "%time RF_predictions = RF_model.predict(data_sets_ohe['test']['features'])"
   ]
  },
  {
   "cell_type": "code",
   "execution_count": 36,
   "metadata": {},
   "outputs": [
    {
     "data": {
      "text/plain": [
       "3006.1330642102503"
      ]
     },
     "execution_count": 36,
     "metadata": {},
     "output_type": "execute_result"
    }
   ],
   "source": [
    "mean_squared_error(data_sets['test']['target'],RF_predictions)**0.5"
   ]
  },
  {
   "cell_type": "code",
   "execution_count": 41,
   "metadata": {},
   "outputs": [],
   "source": [
    "#saving RMSE, training times and evaluation times to result dictionary for later comparison\n",
    "results['RandomForest'] = [3006,7.65, 0, 7.73, 7.76, 115, 0, 115, 124]"
   ]
  },
  {
   "cell_type": "markdown",
   "metadata": {},
   "source": [
    "Improvement from linear regression."
   ]
  },
  {
   "cell_type": "markdown",
   "metadata": {},
   "source": [
    "## CatBoost"
   ]
  },
  {
   "cell_type": "code",
   "execution_count": 51,
   "metadata": {},
   "outputs": [],
   "source": [
    "#Tuning hyper parameters\n",
    "\n",
    "CB_model = CatBoostRegressor(logging_level='Silent', cat_features=obj_cols)\n",
    "\n",
    "#grid tuning hyper parameters\n",
    "grid = {'learning_rate': [0.03, 0.1, 0.5],\n",
    "        'depth': [4, 6, 10, 12],\n",
    "        'iterations': [10, 35, 50],\n",
    "       'l2_leaf_reg': [2,4]}\n",
    "\n",
    "grid_search_result = CB_model.grid_search(grid, \n",
    "                                       X=data_sets_imputed['train']['features'], \n",
    "                                       y=data_sets['train']['target'],\n",
    "                                          partition_random_seed = 1234,\n",
    "                                       verbose=False)"
   ]
  },
  {
   "cell_type": "code",
   "execution_count": 52,
   "metadata": {},
   "outputs": [
    {
     "data": {
      "text/plain": [
       "{'depth': 12, 'l2_leaf_reg': 4, 'iterations': 50, 'learning_rate': 0.5}"
      ]
     },
     "execution_count": 52,
     "metadata": {},
     "output_type": "execute_result"
    }
   ],
   "source": [
    "#best found parameters\n",
    "grid_search_result['params']"
   ]
  },
  {
   "cell_type": "code",
   "execution_count": 53,
   "metadata": {
    "scrolled": true
   },
   "outputs": [],
   "source": [
    "CB_model = CatBoostRegressor(cat_features=obj_cols, learning_rate=0.5,depth= 12,\n",
    "        iterations=50, l2_leaf_reg=4, random_seed=1234)\n",
    "\n"
   ]
  },
  {
   "cell_type": "code",
   "execution_count": 55,
   "metadata": {},
   "outputs": [
    {
     "name": "stdout",
     "output_type": "stream",
     "text": [
      "Wall time: 12.5 s\n"
     ]
    },
    {
     "data": {
      "text/plain": [
       "<catboost.core.CatBoostRegressor at 0x1cc80e29608>"
      ]
     },
     "execution_count": 55,
     "metadata": {},
     "output_type": "execute_result"
    }
   ],
   "source": [
    "%time CB_model.fit(X=data_sets_imputed['train']['features'],y=data_sets['train']['target'], logging_level='Silent')"
   ]
  },
  {
   "cell_type": "code",
   "execution_count": 56,
   "metadata": {},
   "outputs": [
    {
     "name": "stdout",
     "output_type": "stream",
     "text": [
      "Wall time: 424 ms\n"
     ]
    }
   ],
   "source": [
    "%time CB_predictions = CB_model.predict(data_sets_imputed['test']['features'])"
   ]
  },
  {
   "cell_type": "code",
   "execution_count": 43,
   "metadata": {},
   "outputs": [
    {
     "data": {
      "text/plain": [
       "1779.23130912848"
      ]
     },
     "execution_count": 43,
     "metadata": {},
     "output_type": "execute_result"
    }
   ],
   "source": [
    "mean_squared_error(data_sets['test']['target'],CB_predictions)**0.5"
   ]
  },
  {
   "cell_type": "code",
   "execution_count": 60,
   "metadata": {},
   "outputs": [],
   "source": [
    "#saving RMSE, training times and evaluation times to result dictionary for later comparison\n",
    "results['CatBoost'] = [1779,30.7, 2.52, 33.2, 34.3, 288, 28.4, 316, 326]"
   ]
  },
  {
   "cell_type": "markdown",
   "metadata": {},
   "source": [
    "## LightGBM"
   ]
  },
  {
   "cell_type": "code",
   "execution_count": 57,
   "metadata": {},
   "outputs": [],
   "source": [
    "#preparing categorical features for LGBM\n",
    "data_sets_lgbm_train = data_sets_imputed['train']['features'].copy()\n",
    "data_sets_lgbm_test = data_sets_imputed['test']['features'].copy()\n",
    "for c in obj_cols:\n",
    "    data_sets_lgbm_train[c] = data_sets_lgbm_train[c].astype('category')\n",
    "    data_sets_lgbm_test[c] = data_sets_lgbm_test[c].astype('category')\n",
    "#train_features = Dataset(data_sets_lgbm_train, categorical_feature=obj_cols)\n",
    "#train_target = Dataset(data_sets['train']['target'])"
   ]
  },
  {
   "cell_type": "code",
   "execution_count": 58,
   "metadata": {},
   "outputs": [
    {
     "name": "stderr",
     "output_type": "stream",
     "text": [
      "C:\\Users\\Yael\\Anaconda3\\lib\\site-packages\\lightgbm\\basic.py:1551: UserWarning: Using categorical_feature in Dataset.\n",
      "  warnings.warn('Using categorical_feature in Dataset.')\n"
     ]
    },
    {
     "data": {
      "text/plain": [
       "GridSearchCV(cv=3, error_score='raise-deprecating',\n",
       "             estimator=LGBMRegressor(boosting_type='gbdt', class_weight=None,\n",
       "                                     colsample_bytree=1.0,\n",
       "                                     importance_type='split', learning_rate=0.1,\n",
       "                                     max_depth=-1, min_child_samples=20,\n",
       "                                     min_child_weight=0.001, min_split_gain=0.0,\n",
       "                                     n_estimators=100, n_jobs=-1, num_leaves=31,\n",
       "                                     objective=None, random_state=None,\n",
       "                                     reg_alpha=0.0, reg_lambda=0.0, silent=True,\n",
       "                                     subsample=1.0, subsample_for_bin=200000,\n",
       "                                     subsample_freq=0),\n",
       "             iid='warn', n_jobs=-1,\n",
       "             param_grid={'learning_rate': [0.03, 0.1, 0.5],\n",
       "                         'n_estimators': [5, 10, 20, 50],\n",
       "                         'num_leaves': [10, 20, 30, 40], 'objective': ['rmse'],\n",
       "                         'random_state': [1234]},\n",
       "             pre_dispatch='2*n_jobs', refit=True, return_train_score=False,\n",
       "             scoring='neg_mean_squared_error', verbose=0)"
      ]
     },
     "execution_count": 58,
     "metadata": {},
     "output_type": "execute_result"
    }
   ],
   "source": [
    "LGBM_model = LGBMRegressor()\n",
    "#grid tuning hyper parameters\n",
    "grid = {'learning_rate': [0.03, 0.1, 0.5],\n",
    "        'num_leaves': [10, 20, 30, 40],\n",
    "        'n_estimators': [5, 10, 20, 50],\n",
    "       'random_state': [1234],\n",
    "       'objective': ['rmse']}\n",
    "grid_search_result = GridSearchCV(LGBM_model, grid, scoring='neg_mean_squared_error', n_jobs=-1,cv=3)\n",
    "grid_search_result.fit(data_sets_lgbm_train,data_sets['train']['target'],feature_name='auto', \\\n",
    "                       categorical_feature=obj_cols)\n"
   ]
  },
  {
   "cell_type": "code",
   "execution_count": 59,
   "metadata": {},
   "outputs": [
    {
     "data": {
      "text/plain": [
       "{'learning_rate': 0.5,\n",
       " 'n_estimators': 50,\n",
       " 'num_leaves': 40,\n",
       " 'objective': 'rmse',\n",
       " 'random_state': 1234}"
      ]
     },
     "execution_count": 59,
     "metadata": {},
     "output_type": "execute_result"
    }
   ],
   "source": [
    "grid_search_result.best_params_"
   ]
  },
  {
   "cell_type": "code",
   "execution_count": 48,
   "metadata": {},
   "outputs": [],
   "source": [
    "import sys\n",
    "import warnings\n",
    "if not sys.warnoptions:\n",
    "       warnings.simplefilter(\"ignore\")"
   ]
  },
  {
   "cell_type": "code",
   "execution_count": 49,
   "metadata": {},
   "outputs": [
    {
     "name": "stdout",
     "output_type": "stream",
     "text": [
      "CPU times: user 2min 51s, sys: 956 ms, total: 2min 51s\n",
      "Wall time: 3min 26s\n"
     ]
    },
    {
     "data": {
      "text/plain": [
       "LGBMRegressor(boosting_type='gbdt', class_weight=None, colsample_bytree=1.0,\n",
       "              importance_type='split', learning_rate=0.5, max_depth=-1,\n",
       "              min_child_samples=20, min_child_weight=0.001, min_split_gain=0.0,\n",
       "              n_estimators=50, n_jobs=-1, num_leaves=40, objective='rmse',\n",
       "              random_state=1234, reg_alpha=0.0, reg_lambda=0.0, silent=True,\n",
       "              subsample=1.0, subsample_for_bin=200000, subsample_freq=0)"
      ]
     },
     "execution_count": 49,
     "metadata": {},
     "output_type": "execute_result"
    }
   ],
   "source": [
    "LGBM_model = LGBMRegressor(learning_rate=0.5,num_leaves=40, n_estimators=50,random_state=1234,objective='rmse')\n",
    "%time LGBM_model.fit(data_sets_lgbm_train,data_sets['train']['target'],feature_name='auto', \\\n",
    "                       categorical_feature=obj_cols)"
   ]
  },
  {
   "cell_type": "code",
   "execution_count": 50,
   "metadata": {},
   "outputs": [
    {
     "name": "stdout",
     "output_type": "stream",
     "text": [
      "CPU times: user 602 ms, sys: 1 ms, total: 603 ms\n",
      "Wall time: 715 ms\n"
     ]
    }
   ],
   "source": [
    "%time LGBM_predictions = LGBM_model.predict(data_sets_lgbm_test,feature_name='auto',categorical_feature=obj_cols)"
   ]
  },
  {
   "cell_type": "code",
   "execution_count": 51,
   "metadata": {},
   "outputs": [
    {
     "data": {
      "text/plain": [
       "1783.484094949537"
      ]
     },
     "execution_count": 51,
     "metadata": {},
     "output_type": "execute_result"
    }
   ],
   "source": [
    "mean_squared_error(data_sets['test']['target'],LGBM_predictions)**0.5"
   ]
  },
  {
   "cell_type": "code",
   "execution_count": 61,
   "metadata": {},
   "outputs": [],
   "source": [
    "#saving RMSE, training times and evaluation times to result dictionary for later comparison\n",
    "results['LightGBM'] = [1783,7.39, 0.0748, 7.46,7.52, 571, 0, 571, 592]"
   ]
  },
  {
   "cell_type": "markdown",
   "metadata": {},
   "source": [
    "# 3. Model analysis"
   ]
  },
  {
   "cell_type": "code",
   "execution_count": 53,
   "metadata": {},
   "outputs": [
    {
     "data": {
      "text/html": [
       "<div>\n",
       "<style scoped>\n",
       "    .dataframe tbody tr th:only-of-type {\n",
       "        vertical-align: middle;\n",
       "    }\n",
       "\n",
       "    .dataframe tbody tr th {\n",
       "        vertical-align: top;\n",
       "    }\n",
       "\n",
       "    .dataframe thead th {\n",
       "        text-align: right;\n",
       "    }\n",
       "</style>\n",
       "<table border=\"1\" class=\"dataframe\">\n",
       "  <thead>\n",
       "    <tr style=\"text-align: right;\">\n",
       "      <th></th>\n",
       "      <th>Linear</th>\n",
       "      <th>RandomForest</th>\n",
       "      <th>CatBoost</th>\n",
       "      <th>LightGBM</th>\n",
       "    </tr>\n",
       "  </thead>\n",
       "  <tbody>\n",
       "    <tr>\n",
       "      <td>RMSE</td>\n",
       "      <td>3843.00</td>\n",
       "      <td>3006.00</td>\n",
       "      <td>1779.00</td>\n",
       "      <td>1783.0000</td>\n",
       "    </tr>\n",
       "    <tr>\n",
       "      <td>fit \\ CPU \\ user [s]</td>\n",
       "      <td>25.10</td>\n",
       "      <td>7.65</td>\n",
       "      <td>30.70</td>\n",
       "      <td>7.3900</td>\n",
       "    </tr>\n",
       "    <tr>\n",
       "      <td>fit \\ CPU \\ sys [s]</td>\n",
       "      <td>8.82</td>\n",
       "      <td>0.00</td>\n",
       "      <td>2.52</td>\n",
       "      <td>0.0748</td>\n",
       "    </tr>\n",
       "    <tr>\n",
       "      <td>fit \\ CPU \\ total [s]</td>\n",
       "      <td>33.90</td>\n",
       "      <td>7.73</td>\n",
       "      <td>33.20</td>\n",
       "      <td>7.4600</td>\n",
       "    </tr>\n",
       "    <tr>\n",
       "      <td>fit \\ Wall [s]</td>\n",
       "      <td>35.80</td>\n",
       "      <td>7.76</td>\n",
       "      <td>34.30</td>\n",
       "      <td>7.5200</td>\n",
       "    </tr>\n",
       "    <tr>\n",
       "      <td>pred \\ CPU \\ user [ms]</td>\n",
       "      <td>75.40</td>\n",
       "      <td>115.00</td>\n",
       "      <td>288.00</td>\n",
       "      <td>571.0000</td>\n",
       "    </tr>\n",
       "    <tr>\n",
       "      <td>pred \\ CPU \\ sys [ms]</td>\n",
       "      <td>8.12</td>\n",
       "      <td>0.00</td>\n",
       "      <td>28.40</td>\n",
       "      <td>0.0000</td>\n",
       "    </tr>\n",
       "    <tr>\n",
       "      <td>pred \\ CPU \\ total [ms]</td>\n",
       "      <td>83.60</td>\n",
       "      <td>115.00</td>\n",
       "      <td>316.00</td>\n",
       "      <td>571.0000</td>\n",
       "    </tr>\n",
       "    <tr>\n",
       "      <td>pred \\ Wall [ms]</td>\n",
       "      <td>34.30</td>\n",
       "      <td>124.00</td>\n",
       "      <td>326.00</td>\n",
       "      <td>592.0000</td>\n",
       "    </tr>\n",
       "  </tbody>\n",
       "</table>\n",
       "</div>"
      ],
      "text/plain": [
       "                          Linear  RandomForest  CatBoost   LightGBM\n",
       "RMSE                     3843.00       3006.00   1779.00  1783.0000\n",
       "fit \\ CPU \\ user [s]       25.10          7.65     30.70     7.3900\n",
       "fit \\ CPU \\ sys [s]         8.82          0.00      2.52     0.0748\n",
       "fit \\ CPU \\ total [s]      33.90          7.73     33.20     7.4600\n",
       "fit \\ Wall [s]             35.80          7.76     34.30     7.5200\n",
       "pred \\ CPU \\ user [ms]     75.40        115.00    288.00   571.0000\n",
       "pred \\ CPU \\ sys [ms]       8.12          0.00     28.40     0.0000\n",
       "pred \\ CPU \\ total [ms]    83.60        115.00    316.00   571.0000\n",
       "pred \\ Wall [ms]           34.30        124.00    326.00   592.0000"
      ]
     },
     "execution_count": 53,
     "metadata": {},
     "output_type": "execute_result"
    }
   ],
   "source": [
    "index = ['RMSE', 'fit \\ CPU \\ user [s]', 'fit \\ CPU \\ sys [s]', 'fit \\ CPU \\ total [s]', 'fit \\ Wall [s]', \\\n",
    "                                    'pred \\ CPU \\ user [ms]', 'pred \\ CPU \\ sys [ms]', 'pred \\ CPU \\ total [ms]', 'pred \\ Wall [ms]']\n",
    "res = pd.DataFrame(results, index=index)\n",
    "\n",
    "res"
   ]
  },
  {
   "cell_type": "code",
   "execution_count": 54,
   "metadata": {},
   "outputs": [
    {
     "data": {
      "text/plain": [
       "count    354369.000000\n",
       "mean       4416.656776\n",
       "std        4514.158514\n",
       "min           0.000000\n",
       "25%        1050.000000\n",
       "50%        2700.000000\n",
       "75%        6400.000000\n",
       "max       20000.000000\n",
       "Name: Price, dtype: float64"
      ]
     },
     "execution_count": 54,
     "metadata": {},
     "output_type": "execute_result"
    }
   ],
   "source": [
    "data['Price'].describe()"
   ]
  },
  {
   "cell_type": "markdown",
   "metadata": {},
   "source": [
    "Model quality:\n",
    "\n",
    "- The price mean value is 4416 and std is 4514.\n",
    "\n",
    "- All RMSE for the models I used are lower than actual std\n",
    "\n",
    "- RMSE for linear regression and random forest are higher than half the mean, RMSE for catboost and lightGBM are lower\n",
    "\n",
    "Model speed:\n",
    "\n",
    "- The user time is the most important metric to evaluate the speed of the code alone, and anyway system times are negligible.\n",
    "\n",
    "- Training speed: Linear regression and CatBoost take the longest time to train in terms of user CPU time and in terms of actual clock time (wall)\n",
    "\n",
    "- Prediction speed: Linear regression takes the shortest time to predict in terms of CPU user time and actual clock time\n",
    "\n",
    "- LightGBM takes the longest time to predict in terms of CPU user time and actual clock time"
   ]
  },
  {
   "cell_type": "markdown",
   "metadata": {},
   "source": [
    "Conclusions:\n",
    "\n",
    "- Boosting models have much better results than linear regression and trees in terms of RMSE, but are much slower to predict. \n",
    "\n",
    "- Catboost has the lowest RMSE \n",
    "\n",
    "- LightGBM has the highest prediction time"
   ]
  }
 ],
 "metadata": {
  "kernelspec": {
   "display_name": "Python 3",
   "language": "python",
   "name": "python3"
  },
  "language_info": {
   "codemirror_mode": {
    "name": "ipython",
    "version": 3
   },
   "file_extension": ".py",
   "mimetype": "text/x-python",
   "name": "python",
   "nbconvert_exporter": "python",
   "pygments_lexer": "ipython3",
   "version": "3.7.4"
  },
  "toc": {
   "base_numbering": 1,
   "nav_menu": {},
   "number_sections": true,
   "sideBar": true,
   "skip_h1_title": false,
   "title_cell": "Table of Contents",
   "title_sidebar": "Contents",
   "toc_cell": false,
   "toc_position": {},
   "toc_section_display": true,
   "toc_window_display": false
  }
 },
 "nbformat": 4,
 "nbformat_minor": 2
}
